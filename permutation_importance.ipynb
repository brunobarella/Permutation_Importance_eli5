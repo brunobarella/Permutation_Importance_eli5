{
 "cells": [
  {
   "source": [
    "## Permutation importance\n",
    "A importância da permutação usa modelos de maneira diferente de tudo o que você viu até agora, e muitas pessoas acham isso confuso no início. Portanto, começaremos com um exemplo para torná-lo mais concreto.\n",
    "\n",
    "Considere os dados com o seguinte formato:\n",
    "\n",
    "<img src=\"table.png\">\n",
    "\n",
    "Queremos prever a altura de uma pessoa quando ela completar 20 anos, usando dados disponíveis aos 10 anos.\n",
    "\n",
    "Nossos dados incluem recursos úteis (altura aos 10 anos), recursos com pouco poder preditivo (meias compradas), bem como alguns outros recursos que não iremos focar nesta explicação.\n",
    "\n",
    "A importância da permutação é calculada após o ajuste de um modelo. Portanto, não mudaremos o modelo ou quais previsões obteríamos para um determinado valor de altura, contagem de meias, etc.\n",
    "\n",
    "Em vez disso, faremos a seguinte pergunta: Se eu embaralhar aleatoriamente uma única coluna dos dados de validação, deixando o destino e todas as outras colunas no lugar, como isso afetaria a precisão das previsões nos dados agora embaralhados?\n",
    "\n",
    "<img src=\"table_shuffle.png\">\n",
    "\n",
    "Reordenar aleatoriamente uma única coluna deve causar previsões menos precisas, uma vez que os dados resultantes não correspondem mais a nada observado no mundo real. A precisão do modelo é especialmente afetada se embaralharmos uma coluna na qual o modelo dependeu muito para as previsões. Nesse caso, embaralhar a altura aos 10 anos causaria previsões terríveis. Se, em vez disso, embaralhássemos as meias compradas, as previsões resultantes não sofreriam tanto.\n",
    "\n",
    "Com esse insight, o processo é o seguinte:\n",
    "<ol>\n",
    "<li>Obtenha um modelo treinado.</li>\n",
    "<li>Misture os valores em uma única coluna, faça previsões usando o conjunto de dados resultante. Use essas previsões e os valores reais de destino para calcular o quanto a função de perda sofreu com o embaralhamento. Essa deterioração de desempenho mede a importância da variável que você acabou de embaralhar.</li>\n",
    "<li>Retorne os dados para a ordem original (desfazendo a ordem aleatória da etapa 2). Agora repita a etapa 2 com a próxima coluna no conjunto de dados, até que você tenha calculado a importância de cada coluna.</li>\n",
    "</ol>\n",
    "\n",
    "## Exemplo de codigo\n",
    "\n",
    "Nosso exemplo usará um modelo que prevê se um time de futebol / futebol americano terá o vencedor do \"Homem do Jogo\" com base nas estatísticas do time. O prêmio \"Homem do Jogo\" é concedido ao melhor jogador do jogo. A construção de modelos não é nosso foco atual, então a célula abaixo carrega os dados e constrói um modelo rudimentar.\n"
   ],
   "cell_type": "markdown",
   "metadata": {}
  },
  {
   "cell_type": "code",
   "execution_count": 1,
   "metadata": {},
   "outputs": [],
   "source": [
    "import numpy as np\n",
    "import pandas as pd\n",
    "from sklearn.model_selection import train_test_split\n",
    "from sklearn.ensemble import RandomForestClassifier\n",
    "\n",
    "data = pd.read_csv('FIFA 2018 Statistics.csv')\n",
    "y = (data['Man of the Match'] == \"Yes\")  # Convert from string \"Yes\"/\"No\" to binary\n",
    "feature_names = [i for i in data.columns if data[i].dtype in [np.int64]]\n",
    "X = data[feature_names]\n",
    "train_X, val_X, train_y, val_y = train_test_split(X, y, random_state=1)\n",
    "my_model = RandomForestClassifier(n_estimators=100,\n",
    "                                  random_state=0).fit(train_X, train_y)"
   ]
  },
  {
   "source": [
    "Aqui está como calcular e mostrar importâncias com a biblioteca eli5:"
   ],
   "cell_type": "markdown",
   "metadata": {}
  },
  {
   "cell_type": "code",
   "execution_count": 3,
   "metadata": {},
   "outputs": [
    {
     "output_type": "execute_result",
     "data": {
      "text/plain": "<IPython.core.display.HTML object>",
      "text/html": "\n    <style>\n    table.eli5-weights tr:hover {\n        filter: brightness(85%);\n    }\n</style>\n\n\n\n    \n\n    \n\n    \n\n    \n\n    \n\n    \n\n\n    \n\n    \n\n    \n\n    \n\n    \n\n    \n\n\n    \n\n    \n\n    \n\n    \n\n    \n        <table class=\"eli5-weights eli5-feature-importances\" style=\"border-collapse: collapse; border: none; margin-top: 0em; table-layout: auto;\">\n    <thead>\n    <tr style=\"border: none;\">\n        <th style=\"padding: 0 1em 0 0.5em; text-align: right; border: none;\">Weight</th>\n        <th style=\"padding: 0 0.5em 0 0.5em; text-align: left; border: none;\">Feature</th>\n    </tr>\n    </thead>\n    <tbody>\n    \n        <tr style=\"background-color: hsl(120, 100.00%, 80.00%); border: none;\">\n            <td style=\"padding: 0 1em 0 0.5em; text-align: right; border: none;\">\n                0.1750\n                \n                    &plusmn; 0.0848\n                \n            </td>\n            <td style=\"padding: 0 0.5em 0 0.5em; text-align: left; border: none;\">\n                Goal Scored\n            </td>\n        </tr>\n    \n        <tr style=\"background-color: hsl(120, 100.00%, 91.68%); border: none;\">\n            <td style=\"padding: 0 1em 0 0.5em; text-align: right; border: none;\">\n                0.0500\n                \n                    &plusmn; 0.0637\n                \n            </td>\n            <td style=\"padding: 0 0.5em 0 0.5em; text-align: left; border: none;\">\n                Distance Covered (Kms)\n            </td>\n        </tr>\n    \n        <tr style=\"background-color: hsl(120, 100.00%, 92.42%); border: none;\">\n            <td style=\"padding: 0 1em 0 0.5em; text-align: right; border: none;\">\n                0.0437\n                \n                    &plusmn; 0.0637\n                \n            </td>\n            <td style=\"padding: 0 0.5em 0 0.5em; text-align: left; border: none;\">\n                Yellow Card\n            </td>\n        </tr>\n    \n        <tr style=\"background-color: hsl(120, 100.00%, 95.81%); border: none;\">\n            <td style=\"padding: 0 1em 0 0.5em; text-align: right; border: none;\">\n                0.0187\n                \n                    &plusmn; 0.0500\n                \n            </td>\n            <td style=\"padding: 0 0.5em 0 0.5em; text-align: left; border: none;\">\n                Off-Target\n            </td>\n        </tr>\n    \n        <tr style=\"background-color: hsl(120, 100.00%, 95.81%); border: none;\">\n            <td style=\"padding: 0 1em 0 0.5em; text-align: right; border: none;\">\n                0.0187\n                \n                    &plusmn; 0.0637\n                \n            </td>\n            <td style=\"padding: 0 0.5em 0 0.5em; text-align: left; border: none;\">\n                Free Kicks\n            </td>\n        </tr>\n    \n        <tr style=\"background-color: hsl(120, 100.00%, 95.81%); border: none;\">\n            <td style=\"padding: 0 1em 0 0.5em; text-align: right; border: none;\">\n                0.0187\n                \n                    &plusmn; 0.0637\n                \n            </td>\n            <td style=\"padding: 0 0.5em 0 0.5em; text-align: left; border: none;\">\n                Fouls Committed\n            </td>\n        </tr>\n    \n        <tr style=\"background-color: hsl(120, 100.00%, 96.85%); border: none;\">\n            <td style=\"padding: 0 1em 0 0.5em; text-align: right; border: none;\">\n                0.0125\n                \n                    &plusmn; 0.0637\n                \n            </td>\n            <td style=\"padding: 0 0.5em 0 0.5em; text-align: left; border: none;\">\n                Pass Accuracy %\n            </td>\n        </tr>\n    \n        <tr style=\"background-color: hsl(120, 100.00%, 96.85%); border: none;\">\n            <td style=\"padding: 0 1em 0 0.5em; text-align: right; border: none;\">\n                0.0125\n                \n                    &plusmn; 0.0306\n                \n            </td>\n            <td style=\"padding: 0 0.5em 0 0.5em; text-align: left; border: none;\">\n                Blocked\n            </td>\n        </tr>\n    \n        <tr style=\"background-color: hsl(120, 100.00%, 98.06%); border: none;\">\n            <td style=\"padding: 0 1em 0 0.5em; text-align: right; border: none;\">\n                0.0063\n                \n                    &plusmn; 0.0612\n                \n            </td>\n            <td style=\"padding: 0 0.5em 0 0.5em; text-align: left; border: none;\">\n                Saves\n            </td>\n        </tr>\n    \n        <tr style=\"background-color: hsl(120, 100.00%, 98.06%); border: none;\">\n            <td style=\"padding: 0 1em 0 0.5em; text-align: right; border: none;\">\n                0.0063\n                \n                    &plusmn; 0.0250\n                \n            </td>\n            <td style=\"padding: 0 0.5em 0 0.5em; text-align: left; border: none;\">\n                Ball Possession %\n            </td>\n        </tr>\n    \n        <tr style=\"background-color: hsl(0, 100.00%, 100.00%); border: none;\">\n            <td style=\"padding: 0 1em 0 0.5em; text-align: right; border: none;\">\n                0\n                \n                    &plusmn; 0.0000\n                \n            </td>\n            <td style=\"padding: 0 0.5em 0 0.5em; text-align: left; border: none;\">\n                Red\n            </td>\n        </tr>\n    \n        <tr style=\"background-color: hsl(0, 100.00%, 100.00%); border: none;\">\n            <td style=\"padding: 0 1em 0 0.5em; text-align: right; border: none;\">\n                0\n                \n                    &plusmn; 0.0000\n                \n            </td>\n            <td style=\"padding: 0 0.5em 0 0.5em; text-align: left; border: none;\">\n                Yellow &amp; Red\n            </td>\n        </tr>\n    \n        <tr style=\"background-color: hsl(0, 100.00%, 100.00%); border: none;\">\n            <td style=\"padding: 0 1em 0 0.5em; text-align: right; border: none;\">\n                0.0000\n                \n                    &plusmn; 0.0559\n                \n            </td>\n            <td style=\"padding: 0 0.5em 0 0.5em; text-align: left; border: none;\">\n                On-Target\n            </td>\n        </tr>\n    \n        <tr style=\"background-color: hsl(0, 100.00%, 98.06%); border: none;\">\n            <td style=\"padding: 0 1em 0 0.5em; text-align: right; border: none;\">\n                -0.0063\n                \n                    &plusmn; 0.0729\n                \n            </td>\n            <td style=\"padding: 0 0.5em 0 0.5em; text-align: left; border: none;\">\n                Offsides\n            </td>\n        </tr>\n    \n        <tr style=\"background-color: hsl(0, 100.00%, 98.06%); border: none;\">\n            <td style=\"padding: 0 1em 0 0.5em; text-align: right; border: none;\">\n                -0.0063\n                \n                    &plusmn; 0.0919\n                \n            </td>\n            <td style=\"padding: 0 0.5em 0 0.5em; text-align: left; border: none;\">\n                Corners\n            </td>\n        </tr>\n    \n        <tr style=\"background-color: hsl(0, 100.00%, 98.06%); border: none;\">\n            <td style=\"padding: 0 1em 0 0.5em; text-align: right; border: none;\">\n                -0.0063\n                \n                    &plusmn; 0.0250\n                \n            </td>\n            <td style=\"padding: 0 0.5em 0 0.5em; text-align: left; border: none;\">\n                Goals in PSO\n            </td>\n        </tr>\n    \n        <tr style=\"background-color: hsl(0, 100.00%, 95.81%); border: none;\">\n            <td style=\"padding: 0 1em 0 0.5em; text-align: right; border: none;\">\n                -0.0187\n                \n                    &plusmn; 0.0306\n                \n            </td>\n            <td style=\"padding: 0 0.5em 0 0.5em; text-align: left; border: none;\">\n                Attempts\n            </td>\n        </tr>\n    \n        <tr style=\"background-color: hsl(0, 100.00%, 91.68%); border: none;\">\n            <td style=\"padding: 0 1em 0 0.5em; text-align: right; border: none;\">\n                -0.0500\n                \n                    &plusmn; 0.0637\n                \n            </td>\n            <td style=\"padding: 0 0.5em 0 0.5em; text-align: left; border: none;\">\n                Passes\n            </td>\n        </tr>\n    \n    \n    </tbody>\n</table>\n    \n\n    \n\n\n    \n\n    \n\n    \n\n    \n\n    \n\n    \n\n\n\n"
     },
     "metadata": {},
     "execution_count": 3
    }
   ],
   "source": [
    "import eli5\n",
    "from eli5.sklearn import PermutationImportance\n",
    "\n",
    "perm = PermutationImportance(my_model, random_state=1).fit(val_X, val_y)\n",
    "eli5.show_weights(perm, feature_names = val_X.columns.tolist())"
   ]
  },
  {
   "source": [
    "## Interpretando Importâncias de Permutação (PermutationImportance)\n",
    "\n",
    "Os valores na parte superior são as características mais importantes, e aqueles na parte inferior importam menos.\n",
    "\n",
    "O primeiro número em cada linha mostra o quanto o desempenho do modelo diminuiu com um embaralhamento aleatório (neste caso, usando \"precisão\" como métrica de desempenho).\n",
    "\n",
    "Como a maioria das coisas na ciência de dados, há alguma aleatoriedade na mudança exata de desempenho de uma coluna embaralhada. Medimos a quantidade de aleatoriedade em nosso cálculo de importância de permutação repetindo o processo com embaralhamento múltiplo. O número após ± mede como o desempenho variou de uma remodelação para a próxima.\n",
    "\n",
    "Você ocasionalmente verá valores negativos para importâncias de permutação. Nesses casos, as previsões sobre os dados embaralhados (ou ruidosos) eram mais precisas do que os dados reais. Isso acontece quando o recurso não importa (deveria ter uma importância próxima a 0), mas a chance aleatória faz com que as previsões nos dados embaralhados sejam mais precisas. Isso é mais comum com conjuntos de dados pequenos, como o deste exemplo, porque há mais espaço para sorte / acaso.\n",
    "\n",
    "Em nosso exemplo, o recurso mais importante foram os gols marcados. Isso parece sensato. Os fãs de futebol podem ter alguma intuição sobre se a ordenação de outras variáveis ​​é surpreendente ou não."
   ],
   "cell_type": "markdown",
   "metadata": {}
  },
  {
   "source": [
    "#### Para converter um script jupyter notebook \n",
    "\n",
    "jupyter nbconvert --ClearMetadataPreprocessor.enabled=True --ClearOutput.enabled=True --to markdown permutation_importance.ipynb"
   ],
   "cell_type": "markdown",
   "metadata": {}
  }
 ],
 "metadata": {
  "anaconda-cloud": {},
  "kernelspec": {
   "display_name": "Python 3",
   "language": "python",
   "name": "python3"
  },
  "language_info": {
   "codemirror_mode": {
    "name": "ipython",
    "version": 3
   },
   "file_extension": ".py",
   "mimetype": "text/x-python",
   "name": "python",
   "nbconvert_exporter": "python",
   "pygments_lexer": "ipython3",
   "version": "3.8.2-final"
  }
 },
 "nbformat": 4,
 "nbformat_minor": 1
}